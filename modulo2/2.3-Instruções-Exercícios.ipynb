{
  "cells": [
    {
      "cell_type": "markdown",
      "metadata": {
        "id": "1pCTdOHonv5f"
      },
      "source": [
        "# Módulo 2\n",
        "\n",
        "## 2.3 Instruções e Expressões\n",
        "\n",
        "### Q1\n",
        "\n",
        "Faça um programa que armazene o valor de 20 reais de salário por hora de um trabalhador, e o número de 40 horas trabalhadas na semana. Com essas informações, calcule e imprima:\n",
        "- Salário semanal bruto\n",
        "- Valor descontado por semana INSS (10% do bruto)\n",
        "- Valor descontado por semana pelo sindicato (5% do bruto)\n",
        "- Salário semanal líquido (Bruto - Descontos)"
      ]
    },
    {
      "cell_type": "code",
      "execution_count": 1,
      "metadata": {
        "id": "hVbX0I97nj6M"
      },
      "outputs": [
        {
          "name": "stdout",
          "output_type": "stream",
          "text": [
            "Salário Semanal Bruto: 800\n",
            "Desconto INSS: 80.0\n",
            "Desconto Sindicato: 40.0\n",
            "Salário Semanal Liquido: 680.0\n"
          ]
        }
      ],
      "source": [
        "## Escreva e execute seu código aqui\n",
        "\n",
        "valor_hora = 20\n",
        "horas_semanais = 40\n",
        "\n",
        "salario_semanal_bruto = valor_hora * horas_semanais\n",
        "desconto_inss = salario_semanal_bruto * 0.1\n",
        "desconto_sindicato = salario_semanal_bruto * 0.05\n",
        "salario_semanal_liq = salario_semanal_bruto -(desconto_inss + desconto_sindicato)\n",
        "\n",
        "print(f\"Salário Semanal Bruto: {salario_semanal_bruto}\")\n",
        "print(f\"Desconto INSS: {desconto_inss}\")\n",
        "print(f\"Desconto Sindicato: {desconto_sindicato}\")\n",
        "print(f\"Salário Semanal Liquido: {salario_semanal_liq}\")"
      ]
    },
    {
      "cell_type": "markdown",
      "metadata": {
        "id": "pIxKX9J2oGZ1"
      },
      "source": [
        "### Q2\n",
        "\n",
        "Altere o programa anterior para a partir dos valores de horas trabalhadas por semana e salário por hora, calcular **em somente duas instruções**:\n",
        "- Salário semanal bruto\n",
        "- Salário semanal líquido com todos os descontos. Para a segunda instrução, realize todos os cálculos aritméticos em uma expressão composta.\n"
      ]
    },
    {
      "cell_type": "code",
      "execution_count": 2,
      "metadata": {
        "id": "pAHw9Xf9oGoi"
      },
      "outputs": [
        {
          "name": "stdout",
          "output_type": "stream",
          "text": [
            "Salário Semanal Bruto: 800\n",
            "Salário Semanal Liquido: 680.0\n"
          ]
        }
      ],
      "source": [
        "## Escreva e execute seu código aqui\n",
        "\n",
        "valor_hora = 20\n",
        "horas_semanais = 40\n",
        "\n",
        "salario_semanal_bruto = valor_hora * horas_semanais\n",
        "salario_semanal_liq = salario_semanal_bruto - ((salario_semanal_bruto * 0.1) + (salario_semanal_bruto * 0.05))\n",
        "\n",
        "print(f\"Salário Semanal Bruto: {salario_semanal_bruto}\")\n",
        "print(f\"Salário Semanal Liquido: {salario_semanal_liq}\")"
      ]
    },
    {
      "cell_type": "markdown",
      "metadata": {
        "id": "m8tlHRuWpBOB"
      },
      "source": [
        "### Q3\n",
        "\n",
        "Você está desenvolvendo um software de conversão de moeda e precisa calcular o valor equivalente em yuan chinês a partir de uma quantia em real. A taxa de câmbio é de 0.69 BRL (real) para 1 CNY (yuan). Escreva um programa que define em uma variável uma quantia em reais (BRL) e calcula o valor equivalente em yuan (CNY). Imprima o resultado."
      ]
    },
    {
      "cell_type": "code",
      "execution_count": 11,
      "metadata": {
        "id": "2bPw7uF6oeL9"
      },
      "outputs": [
        {
          "name": "stdout",
          "output_type": "stream",
          "text": [
            "R$50 BRL equivale a ¥72.46 CNY\n"
          ]
        }
      ],
      "source": [
        "## Escreva e execute seu código aqui\n",
        "\n",
        "quantia = 50\n",
        "\n",
        "taxa_CNY = 0.69\n",
        "\n",
        "real_para_yan = quantia / taxa_CNY\n",
        "\n",
        "print(f\"R${quantia} BRL equivale a ¥{real_para_yan:.2f} CNY\")"
      ]
    },
    {
      "cell_type": "markdown",
      "metadata": {
        "id": "-Na3ltDCp74A"
      },
      "source": [
        "### Q4\n",
        "\n",
        "Você é um treinador de corrida e deseja calcular a velocidade média que um atleta precisa manter para completar a Maratona Internacional de São Silvestre, que tem uma distância total de 42.195 km. A fórmula para calcular a velocidade média ($v\\_media$) é dada por $v\\_media = \\frac{distancia}{tempo}$ . Escreva um programa em Python para calcular a velocidade média necessária para completar a maratona em 3 horas.\n",
        "\n",
        "**Calcule e imprima o resultado em metros/segundo**, ou seja, converta a distância de quilômetros para metros ($metro = \\frac{km}{1000}$) e a velocidade de horas para segundos $(segundo = \\frac{hora}{3600})$."
      ]
    },
    {
      "cell_type": "code",
      "execution_count": 23,
      "metadata": {
        "id": "Bn6l8kcSrE4L"
      },
      "outputs": [
        {
          "name": "stdout",
          "output_type": "stream",
          "text": [
            "A velocidade média para completar a maratona em 3 horas é de 3.91m/s.\n",
            "Já em km/h será necessaria uma velocidade de 14.06km.\n"
          ]
        }
      ],
      "source": [
        "## Escreva e execute seu código aqui\n",
        "\n",
        "distancia_km = 42.195\n",
        "horas = 3\n",
        "\n",
        "distancia_m = distancia_km * 1000\n",
        "segundos = 3 * 3600\n",
        "\n",
        "\n",
        "vel_media_km = distancia_km / horas\n",
        "vel_media_m = distancia_m / segundos\n",
        "\n",
        "\n",
        "print(f\"A velocidade média para completar a maratona em 3 horas é de {vel_media_m:.2f}m/s.\")\n",
        "print(f\"Já em km/h será necessaria uma velocidade de {vel_media_km:.2f}km.\")"
      ]
    }
  ],
  "metadata": {
    "colab": {
      "provenance": []
    },
    "kernelspec": {
      "display_name": "Python 3",
      "name": "python3"
    },
    "language_info": {
      "codemirror_mode": {
        "name": "ipython",
        "version": 3
      },
      "file_extension": ".py",
      "mimetype": "text/x-python",
      "name": "python",
      "nbconvert_exporter": "python",
      "pygments_lexer": "ipython3",
      "version": "3.11.7"
    }
  },
  "nbformat": 4,
  "nbformat_minor": 0
}
