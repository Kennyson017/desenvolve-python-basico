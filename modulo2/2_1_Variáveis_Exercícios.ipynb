{
  "cells": [
    {
      "cell_type": "markdown",
      "id": "a9d28135",
      "metadata": {
        "id": "a9d28135"
      },
      "source": [
        "# Módulo 2\n",
        "## 2.1 Variáveis\n",
        "\n",
        "### Q1.\n",
        "Selecione todos os itens a seguir que contém nomes válidos de variáveis. Lembre-se que alguns nomes com estrutura válida são palavras reservadas da linguagem e portanto não podem nomear variáveis.\n",
        "\n",
        "    a) nome_completo\n",
        "    b) quantidade@produtos\n",
        "    c) idade\n",
        "    d) soma idades\n",
        "    e) MediaNotas\n",
        "    f) _tipo\n",
        "    g) 2total\n",
        "    h) lambda"
      ]
    },
    {
      "cell_type": "code",
      "execution_count": 1,
      "id": "23ab7106",
      "metadata": {
        "id": "23ab7106"
      },
      "outputs": [
        {
          "name": "stdout",
          "output_type": "stream",
          "text": [
            "a c e f\n"
          ]
        }
      ],
      "source": [
        "# Preencha o print com as alternativas corretas\n",
        "# separadas por espaços em branco.\n",
        "# Ex: print(\"a b c\")\n",
        "print(\"a c e f\")"
      ]
    },
    {
      "cell_type": "markdown",
      "id": "f56d2b28",
      "metadata": {
        "id": "f56d2b28"
      },
      "source": [
        "---\n",
        "### Q2.\n",
        "Dados os scripts a seguir, faça:\n",
        "- Para os scripts corretos escreva o resultado impresso ao final da execução\n",
        "- Para os incorretos descreva todos os erros identificados apontando a linha onde cada erro acontece.\n"
      ]
    },
    {
      "cell_type": "markdown",
      "id": "a2f2461b",
      "metadata": {
        "id": "a2f2461b"
      },
      "source": [
        "```python\n",
        "# Script 1\n",
        "x = 10\n",
        "y = x + 2\n",
        "print(y - 5)\n",
        "```"
      ]
    },
    {
      "cell_type": "code",
      "execution_count": 7,
      "id": "4371ac7b",
      "metadata": {
        "colab": {
          "base_uri": "https://localhost:8080/"
        },
        "id": "4371ac7b",
        "outputId": "c6fbc994-994e-4ed6-99d9-d05b66f93d56"
      },
      "outputs": [
        {
          "name": "stdout",
          "output_type": "stream",
          "text": [
            "7\n"
          ]
        }
      ],
      "source": [
        "# preencha o print com sua resposta\n",
        "\n",
        "print(\"7\")"
      ]
    },
    {
      "cell_type": "markdown",
      "id": "b38baa9c",
      "metadata": {
        "id": "b38baa9c"
      },
      "source": [
        "```python\n",
        "# Script 2\n",
        "soma = n1 + n2\n",
        "print(soma)\n",
        "```"
      ]
    },
    {
      "cell_type": "code",
      "execution_count": 3,
      "id": "82b5064b",
      "metadata": {
        "id": "82b5064b"
      },
      "outputs": [
        {
          "name": "stdout",
          "output_type": "stream",
          "text": [
            "linha 2 - Variaveis n1 e n2 não definidas\n"
          ]
        }
      ],
      "source": [
        "# preencha o print com sua resposta\n",
        "\n",
        "print(\"linha 2 - Variaveis n1 e n2 não definidas\")"
      ]
    },
    {
      "cell_type": "markdown",
      "id": "c2f3ab7a",
      "metadata": {
        "id": "c2f3ab7a"
      },
      "source": [
        "```python\n",
        "# Script 3\n",
        "a = 10\n",
        "a = a + 1\n",
        "print(a)\n",
        "```"
      ]
    },
    {
      "cell_type": "code",
      "execution_count": null,
      "id": "7b9db0c7",
      "metadata": {
        "id": "7b9db0c7"
      },
      "outputs": [],
      "source": [
        "# preencha o print com sua resposta\n",
        "\n",
        "print(\"11\")"
      ]
    },
    {
      "cell_type": "markdown",
      "id": "dd40d2c9",
      "metadata": {
        "id": "dd40d2c9"
      },
      "source": [
        "```python\n",
        "# Script 4\n",
        "saldo da conta = 1500\n",
        "0.1 = juros\n",
        "print(saldo da conta * juros)\n",
        "```"
      ]
    },
    {
      "cell_type": "code",
      "execution_count": null,
      "id": "2dec64ac",
      "metadata": {
        "id": "2dec64ac"
      },
      "outputs": [],
      "source": [
        "# preencha o print com sua resposta\n",
        "\n",
        "print(\"linha 1 - falta underline o que torna a variavel invalida\")\n",
        "print(\"linha 2 - valor a esquerda e variavel a direita, o correto é ser o oposto\")\n",
        "print(\"linha 3 - variaveis erradas pelos erros de anteriores\")\n",
        "\n",
        "# Codigo correto\n",
        "\n",
        "# saldo_da_conta = 1500\n",
        "# juros = 0.1\n",
        "# print(saldo_da_conta * juros)"
      ]
    },
    {
      "cell_type": "markdown",
      "id": "9ba1f2a8",
      "metadata": {
        "id": "9ba1f2a8"
      },
      "source": [
        "---\n",
        "### Q3.\n",
        "Declare três variáveis, `num1`, `num2` e `num3`, com valores inteiros numéricos de sua escolha. Calcule e imprima a média desses três números. Utilize a fórmula: `(num1 + num2 + num3) / 3`."
      ]
    },
    {
      "cell_type": "code",
      "execution_count": null,
      "id": "e1963351",
      "metadata": {
        "colab": {
          "base_uri": "https://localhost:8080/"
        },
        "id": "e1963351",
        "outputId": "633b5123-ebe0-4fff-ee34-c3b017fde8e0"
      },
      "outputs": [
        {
          "name": "stdout",
          "output_type": "stream",
          "text": [
            "A media é 5.0\n"
          ]
        }
      ],
      "source": [
        "## Escreva e execute seu código aqui\n",
        "\n",
        "num1 = 3\n",
        "num2 = 5\n",
        "num3 = 7\n",
        "\n",
        "media = (num1 + num2 + num3) / 3\n",
        "\n",
        "print(\"A media é\", media)"
      ]
    },
    {
      "cell_type": "markdown",
      "id": "7940ba20",
      "metadata": {
        "id": "7940ba20"
      },
      "source": [
        "---\n",
        "### Q4.\n",
        "Escreva um script python que:\n",
        "- Armazene em uma variável uma velocidade de 90 km/h\n",
        "- Calcule e armazene o equivalente em m/s\n",
        "    - Divida o valor original por 3.6 para obter o resultado em m/s. Em python a sintaxe da divisão e atribuição é c = a / b\n",
        "- Imprima na tela a velocidade o resultado m/s\n"
      ]
    },
    {
      "cell_type": "code",
      "execution_count": 1,
      "id": "dd4fe7ae",
      "metadata": {
        "colab": {
          "base_uri": "https://localhost:8080/"
        },
        "id": "dd4fe7ae",
        "outputId": "777e1a5c-59fe-4e55-b24d-e832fe2f6656"
      },
      "outputs": [
        {
          "name": "stdout",
          "output_type": "stream",
          "text": [
            "A velocidade equivalenete a 90km em m/s é 25.0m/s.\n"
          ]
        }
      ],
      "source": [
        "## Escreva e execute seu código aqui\n",
        "\n",
        "vel_km = 90\n",
        "vel_m_por_s = vel_km / 3.6\n",
        "\n",
        "print(f\"A velocidade equivalenete a {vel_km}km em m/s é {vel_m_por_s}m/s.\")"
      ]
    },
    {
      "cell_type": "markdown",
      "id": "cc714a42",
      "metadata": {
        "id": "cc714a42"
      },
      "source": [
        "---\n",
        "### Q5.\n",
        "Escreva um script python que:\n",
        "- Armazene o seu nome em uma variável\n",
        "    - Dica: para armazenar textos em variáveis basta colocar a palavra desejada entre aspas, ex: \"Camila\", à direita do operador de atribuição.\n",
        "- Imprima o texto \"Meu nome é:\"\n",
        "- Imprima a variável com seu nome\n"
      ]
    },
    {
      "cell_type": "code",
      "execution_count": null,
      "id": "10a6a794",
      "metadata": {
        "colab": {
          "base_uri": "https://localhost:8080/"
        },
        "id": "10a6a794",
        "outputId": "0f864ddc-1120-45c2-ecb4-d8cecd403b13"
      },
      "outputs": [
        {
          "name": "stdout",
          "output_type": "stream",
          "text": [
            "Meu nome é Kennyson!\n"
          ]
        }
      ],
      "source": [
        "## Escreva e execute seu código aqui\n",
        "\n",
        "nome = \"Kennyson\"\n",
        "\n",
        "print(f\"Meu nome é {nome}!\")"
      ]
    }
  ],
  "metadata": {
    "colab": {
      "provenance": []
    },
    "kernelspec": {
      "display_name": "Python 3 (ipykernel)",
      "language": "python",
      "name": "python3"
    },
    "language_info": {
      "codemirror_mode": {
        "name": "ipython",
        "version": 3
      },
      "file_extension": ".py",
      "mimetype": "text/x-python",
      "name": "python",
      "nbconvert_exporter": "python",
      "pygments_lexer": "ipython3",
      "version": "3.11.7"
    }
  },
  "nbformat": 4,
  "nbformat_minor": 5
}
