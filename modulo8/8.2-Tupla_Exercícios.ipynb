{
 "cells": [
  {
   "cell_type": "markdown",
   "id": "0d5035b5",
   "metadata": {},
   "source": [
    "# Tupla\n",
    "\n",
    "## Aula 8.2"
   ]
  },
  {
   "cell_type": "markdown",
   "id": "0bdece85",
   "metadata": {},
   "source": [
    "### Q1. \n",
    "\n",
    "Escreva uma função ```calcula_area_perimetro``` que recebe **apenas um parâmetro** ```dimensoes``` e calcula a área e o perímetro a partir das dimensões dadas. \n",
    "- ```dimensoes``` é uma tupla (largura, comprimento) com as dimensões de um terreno retangular\n",
    "- Sua função deve calcular e retornar as seguintes operações\n",
    "   - $area = largura \\times comprimento$\n",
    "   - $perimetro = 2\\times(largura + comprimento)$\n"
   ]
  },
  {
   "cell_type": "code",
   "execution_count": 3,
   "id": "0a258eba",
   "metadata": {},
   "outputs": [],
   "source": [
    "# Implemente aqui a função calcula_area_perimetro\n",
    "\n",
    "def calcula_area_perimetro(dimensoes):\n",
    "    largura, comprimento = dimensoes\n",
    "    area = largura * comprimento\n",
    "    perimetro = 2 * (largura + comprimento)\n",
    "    return area, perimetro\n"
   ]
  },
  {
   "cell_type": "code",
   "execution_count": 6,
   "id": "e1866c04",
   "metadata": {},
   "outputs": [
    {
     "name": "stdout",
     "output_type": "stream",
     "text": [
      "(35, 24) <class 'tuple'>\n"
     ]
    }
   ],
   "source": [
    "# Complete o exemplo de uso abaixo\n",
    "largura = 5\n",
    "comprimento = 7\n",
    "\n",
    "dimensoes = largura, comprimento\n",
    "retorno = calcula_area_perimetro(dimensoes)\n",
    "print(retorno, type(retorno))"
   ]
  },
  {
   "cell_type": "markdown",
   "id": "cbdcb986",
   "metadata": {},
   "source": [
    "### Q2.\n",
    "\n",
    "Dada uma string, imprima todas as vogais que aparecem na string, bem como todos os índices onde elas ocorrem. Para isso, use a função ```enumerate```.\n"
   ]
  },
  {
   "cell_type": "code",
   "execution_count": 1,
   "id": "1f6b1f2d",
   "metadata": {},
   "outputs": [
    {
     "name": "stdout",
     "output_type": "stream",
     "text": [
      "0 O\n",
      "3 a\n",
      "5 o\n",
      "8 o\n",
      "9 e\n",
      "10 u\n",
      "12 a\n",
      "15 o\n",
      "16 u\n",
      "18 a\n",
      "21 a\n",
      "23 A\n",
      "25 i\n",
      "27 e\n"
     ]
    }
   ],
   "source": [
    "frase = \"O rato roeu a roupa da Alice\"\n",
    "\n",
    "# Implemente aqui sua solução\n",
    "\n",
    "for i, letra in enumerate(frase):\n",
    "    if letra.lower() in \"aeiou\":\n",
    "        print(i, letra)"
   ]
  },
  {
   "cell_type": "markdown",
   "id": "8d46663f",
   "metadata": {},
   "source": [
    "### Q3.\n",
    "\n",
    "Escreva uma função em Python chamada ```ordenar_tuplas``` que recebe uma lista de tuplas, cada uma contendo o nome de um aluno e sua respectiva média, e retorna uma nova lista ordenada em ordem decrescente de médias."
   ]
  },
  {
   "cell_type": "code",
   "execution_count": 14,
   "id": "469f2e6e",
   "metadata": {},
   "outputs": [],
   "source": [
    "# Implemente aqui a função ordenar_tuplas\n",
    "\n",
    "def ordenar_tuplas(lista):\n",
    "\n",
    "    lista_ordenada = []\n",
    "    \n",
    "    for tupla in lista:\n",
    "        for i, tupla_ord in enumerate(lista_ordenada):\n",
    "            if tupla[1] > tupla_ord[1]:\n",
    "                lista_ordenada.insert(i, tupla)\n",
    "                break\n",
    "        else:\n",
    "            lista_ordenada.append(tupla)\n",
    "    \n",
    "    return lista_ordenada\n"
   ]
  },
  {
   "cell_type": "code",
   "execution_count": 13,
   "id": "1972c62b",
   "metadata": {},
   "outputs": [
    {
     "name": "stdout",
     "output_type": "stream",
     "text": [
      "[('Charlie', 9.0), ('David', 8.8), ('Alice', 8.5), ('Bob', 7.2)]\n"
     ]
    }
   ],
   "source": [
    "# Exemplo de uso:\n",
    "alunos_notas = [('Alice', 8.5), ('Bob', 7.2), ('Charlie', 9.0), ('David', 8.8)]\n",
    "resultado = ordenar_tuplas(alunos_notas)\n",
    "print(resultado)\n",
    "# Saída esperada: [('Charlie', 9.0), ('David', 8.8), ('Alice', 8.5), ('Bob', 7.2)]"
   ]
  },
  {
   "cell_type": "markdown",
   "id": "e0268fae",
   "metadata": {},
   "source": [
    "### Q4.\n",
    "\n",
    "Escreva uma função em Python chamada ```comprimir_tuplas``` que recebe uma lista de tuplas, cada uma contendo uma palavra e um número, e retorna uma nova lista de tuplas onde palavras idênticas são agrupadas e seus números são somados.\n",
    "\n"
   ]
  },
  {
   "cell_type": "code",
   "execution_count": 3,
   "id": "30a221f3",
   "metadata": {},
   "outputs": [],
   "source": [
    "# Implemente aqui a função comprimir_tuplas\n",
    "\n",
    "def comprimir_tuplas(lista_tuplas):\n",
    "    dicionario = {}\n",
    "    \n",
    "    for palavra, numero in lista_tuplas:\n",
    "        if palavra in dicionario:\n",
    "            dicionario[palavra] += numero\n",
    "        else:\n",
    "            dicionario[palavra] = numero\n",
    "    \n",
    "    lista_comprimida = list(dicionario.items())\n",
    "    \n",
    "    return lista_comprimida\n"
   ]
  },
  {
   "cell_type": "code",
   "execution_count": 4,
   "id": "80972bac",
   "metadata": {},
   "outputs": [
    {
     "name": "stdout",
     "output_type": "stream",
     "text": [
      "[('maçã', 8), ('banana', 5), ('laranja', 1)]\n"
     ]
    }
   ],
   "source": [
    "# Exemplo de uso:\n",
    "tuplas_originais = [('maçã', 3), ('banana', 2), ('maçã', 5), ('laranja', 1), ('banana', 3)]\n",
    "resultado = comprimir_tuplas(tuplas_originais)\n",
    "print(resultado)\n",
    "# Saída esperada: [('maçã', 8), ('banana', 5), ('laranja', 1)]"
   ]
  },
  {
   "cell_type": "markdown",
   "id": "649a5082",
   "metadata": {},
   "source": [
    "### Q5. \n",
    "\n",
    "- Escreva um script que peça o nome e a idade de todos na fila de uma balada. Crie uma lista de tuplas com os pares ```(nome, idade)``` de cada um. \n",
    "- Em seguida crie e imprima duas tuplas apenas com os nomes, uma com os menores de idade que não poderão entrar, e uma com os maiores de idade (```idade >= 18```). \n",
    "\n"
   ]
  },
  {
   "cell_type": "code",
   "execution_count": 12,
   "id": "47cb0573",
   "metadata": {},
   "outputs": [
    {
     "name": "stdout",
     "output_type": "stream",
     "text": [
      "Menores de idade: ('Ana', 'Maria', 'Darlan')\n",
      "Maiores de idade: ('João', 'Fabio', 'Geraldo', 'Susane', 'Yara')\n"
     ]
    }
   ],
   "source": [
    "## Implemente aqui sua solução\n",
    "\n",
    "# fila = [\n",
    "#     (\"Ana\", 17),\n",
    "#     (\"Bruno\", 21),\n",
    "#     (\"Carla\", 16),\n",
    "#     (\"Daniel\", 18),\n",
    "#     (\"Eduarda\", 20),\n",
    "#     (\"Fernando\", 17),\n",
    "#     (\"Gabriela\", 19),\n",
    "#     (\"Henrique\", 22),\n",
    "#     (\"Isabela\", 15),\n",
    "#     (\"Jorge\", 24),\n",
    "#     (\"Karla\", 14),\n",
    "#     (\"Luis\", 18),\n",
    "#     (\"Mariana\", 21),\n",
    "#     (\"Nicolas\", 17),\n",
    "#     (\"Olivia\", 16)\n",
    "# ]\n",
    "\n",
    "fila = []\n",
    "\n",
    "while True:\n",
    "    nome = input(\"Digite o nome (ou 'fim' para encerrar): \")\n",
    "    if nome.lower() == 'fim':\n",
    "        break\n",
    "    idade = int(input(\"Digite a idade: \"))\n",
    "    fila.append((nome, idade))\n",
    "\n",
    "menores_de_idade = []\n",
    "maiores_de_idade = []\n",
    "\n",
    "for nome, idade in fila:\n",
    "    if idade < 18:\n",
    "        menores_de_idade.append(nome)\n",
    "    else:\n",
    "        maiores_de_idade.append(nome)\n",
    "\n",
    "tupla_menores_de_idade = tuple(menores_de_idade)\n",
    "tupla_maiores_de_idade = tuple(maiores_de_idade)\n",
    "\n",
    "# Imprime os resultados\n",
    "print(\"Menores de idade:\", tupla_menores_de_idade)\n",
    "print(\"Maiores de idade:\", tupla_maiores_de_idade)\n"
   ]
  }
 ],
 "metadata": {
  "kernelspec": {
   "display_name": "Python 3 (ipykernel)",
   "language": "python",
   "name": "python3"
  },
  "language_info": {
   "codemirror_mode": {
    "name": "ipython",
    "version": 3
   },
   "file_extension": ".py",
   "mimetype": "text/x-python",
   "name": "python",
   "nbconvert_exporter": "python",
   "pygments_lexer": "ipython3",
   "version": "3.11.7"
  }
 },
 "nbformat": 4,
 "nbformat_minor": 5
}
